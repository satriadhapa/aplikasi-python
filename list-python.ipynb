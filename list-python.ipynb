{
 "cells": [
  {
   "cell_type": "code",
   "execution_count": 1,
   "metadata": {},
   "outputs": [
    {
     "name": "stdout",
     "output_type": "stream",
     "text": [
      "['apel', 'pisang', 'ceri']\n"
     ]
    }
   ],
   "source": [
    "daftar_buah = [\"apel\",\"pisang\", \"ceri\"]\n",
    "print(daftar_buah)"
   ]
  },
  {
   "cell_type": "code",
   "execution_count": 2,
   "metadata": {},
   "outputs": [
    {
     "data": {
      "text/plain": [
       "3"
      ]
     },
     "execution_count": 2,
     "metadata": {},
     "output_type": "execute_result"
    }
   ],
   "source": [
    "len(daftar_buah)"
   ]
  },
  {
   "cell_type": "code",
   "execution_count": 3,
   "metadata": {},
   "outputs": [
    {
     "name": "stdout",
     "output_type": "stream",
     "text": [
      "5\n"
     ]
    }
   ],
   "source": [
    "rand_list = [\"satria\", 20, True, \"Male\", 175.0]\n",
    "print(len(rand_list))"
   ]
  },
  {
   "cell_type": "code",
   "execution_count": 4,
   "metadata": {},
   "outputs": [
    {
     "data": {
      "text/plain": [
       "list"
      ]
     },
     "execution_count": 4,
     "metadata": {},
     "output_type": "execute_result"
    }
   ],
   "source": [
    "type(rand_list)"
   ]
  },
  {
   "cell_type": "code",
   "execution_count": 5,
   "metadata": {},
   "outputs": [
    {
     "name": "stdout",
     "output_type": "stream",
     "text": [
      "['apel', 'pisang', 'ceri']\n"
     ]
    }
   ],
   "source": [
    "## list constucter\n",
    "list_baru = list((\"apel\", \"pisang\", \"ceri\"))\n",
    "print(list_baru)"
   ]
  },
  {
   "cell_type": "code",
   "execution_count": 12,
   "metadata": {},
   "outputs": [
    {
     "name": "stdout",
     "output_type": "stream",
     "text": [
      "175.0\n"
     ]
    }
   ],
   "source": [
    "# access list item\n",
    "rand_list = [\"satria\", 20, True, \"Male\", 175.0]\n",
    "print(rand_list[-1])"
   ]
  },
  {
   "cell_type": "code",
   "execution_count": 14,
   "metadata": {},
   "outputs": [
    {
     "name": "stdout",
     "output_type": "stream",
     "text": [
      "[20, True, 'Male']\n"
     ]
    }
   ],
   "source": [
    "print(rand_list[1:-1])"
   ]
  },
  {
   "cell_type": "code",
   "execution_count": 19,
   "metadata": {},
   "outputs": [
    {
     "name": "stdout",
     "output_type": "stream",
     "text": [
      "item ada\n"
     ]
    }
   ],
   "source": [
    "# check item in list\n",
    "rand_list = [\"satria\", 20, True, \"Male\", 175.0]\n",
    "if 20 in rand_list:\n",
    "    print(\"item ada\")\n",
    "else:\n",
    "    print(\"item tidak ada\")\n"
   ]
  },
  {
   "cell_type": "code",
   "execution_count": 20,
   "metadata": {},
   "outputs": [
    {
     "name": "stdout",
     "output_type": "stream",
     "text": [
      "['satria', 20, True, 'Male', 175.0, 'ai']\n"
     ]
    }
   ],
   "source": [
    "# append items\n",
    "\n",
    "rand_list = [\"satria\", 20, True, \"Male\", 175.0]\n",
    "rand_list.append(\"ai\")\n",
    "print(rand_list)"
   ]
  },
  {
   "cell_type": "code",
   "execution_count": 22,
   "metadata": {},
   "outputs": [
    {
     "name": "stdout",
     "output_type": "stream",
     "text": [
      "['satria', 20, 'love', True, 'Male', 175.0, 'ai']\n"
     ]
    }
   ],
   "source": [
    "# insert item to list\n",
    "rand_list.insert(2, \"love\")\n",
    "print(rand_list)"
   ]
  },
  {
   "cell_type": "code",
   "execution_count": 23,
   "metadata": {},
   "outputs": [
    {
     "name": "stdout",
     "output_type": "stream",
     "text": [
      "['satria', 20, True, 'Male', 175.0, 'apel', 'pisang', 'durian']\n"
     ]
    }
   ],
   "source": [
    "# extend list\n",
    "rand_list = [\"satria\", 20, True, \"Male\", 175.0]\n",
    "fruits = [\"apel\", \"pisang\", \"durian\"]\n",
    "rand_list.extend(fruits)\n",
    "print(rand_list)"
   ]
  },
  {
   "cell_type": "code",
   "execution_count": null,
   "metadata": {},
   "outputs": [],
   "source": []
  }
 ],
 "metadata": {
  "kernelspec": {
   "display_name": "Python 3",
   "language": "python",
   "name": "python3"
  },
  "language_info": {
   "codemirror_mode": {
    "name": "ipython",
    "version": 3
   },
   "file_extension": ".py",
   "mimetype": "text/x-python",
   "name": "python",
   "nbconvert_exporter": "python",
   "pygments_lexer": "ipython3",
   "version": "3.11.4"
  }
 },
 "nbformat": 4,
 "nbformat_minor": 2
}
