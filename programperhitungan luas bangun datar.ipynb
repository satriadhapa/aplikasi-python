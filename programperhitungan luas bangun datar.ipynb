{
 "cells": [
  {
   "cell_type": "markdown",
   "metadata": {},
   "source": [
    "## APLIKASI PERHITUNGAN LUAS BANGUN DATAR"
   ]
  },
  {
   "cell_type": "code",
   "execution_count": 1,
   "metadata": {},
   "outputs": [],
   "source": [
    "def segiempat():\n",
    "    print(\"menghitung luas SegiEmpat\")\n",
    "    panjang = int(input(\"Panjang: \"))\n",
    "    lebar = int(input(\"Lebar: \"))\n",
    "    print(\"luas = \"+ str(panjang *lebar))\n"
   ]
  },
  {
   "cell_type": "code",
   "execution_count": 2,
   "metadata": {},
   "outputs": [],
   "source": [
    "def segitiga():\n",
    "    print(\"menghitung luas segitiga\")\n",
    "    alas = int(input(\"alas: \"))\n",
    "    tinggi = int(input(\"tinggi: \"))\n",
    "    print(\"luas = \"+ str(alas *tinggi))"
   ]
  },
  {
   "cell_type": "code",
   "execution_count": 4,
   "metadata": {},
   "outputs": [],
   "source": [
    "def layang():\n",
    "    print(\"menghitung luas layang-layang\")\n",
    "    diagonal_1 = int(input(\"panjang diagonal 1 : \"))\n",
    "    diagonal_2 = int(input(\"panjang diagonal 2 : \"))\n",
    "    print(\"luas = \"+ str(diagonal_1 * diagonal_2/2))"
   ]
  },
  {
   "cell_type": "code",
   "execution_count": 14,
   "metadata": {},
   "outputs": [],
   "source": [
    "def trapesium():\n",
    "    print(\"menghitung luas Trapesium\")\n",
    "    atap = int(input(\"sisi atap: \"))\n",
    "    lantai = int(input(\"lantai: \"))\n",
    "    tinggi = int(input(\"tinggi: \"))\n",
    "    print(\"atap : \",atap,\"\\n\"\n",
    "          \"lantai : \",lantai,\"\\n\"\n",
    "          \"tinggi : \",tinggi)\n",
    "    print(\"luas = \"+ str((atap + lantai)*tinggi/2))"
   ]
  },
  {
   "cell_type": "code",
   "execution_count": 5,
   "metadata": {},
   "outputs": [],
   "source": [
    "def show_menu():\n",
    "    print(\"\\n\")\n",
    "    print(\"------MENU------\")\n",
    "    print(\"1. SegiEmpat\")\n",
    "    print(\"2. Segitiga\")\n",
    "    print(\"3. Layang - layang\")\n",
    "    print(\"4. trapsium\")\n",
    "    \n",
    "    menu = int(input(\"PILIH MENU: \"))\n",
    "    print(\"\\n\")\n",
    "    \n",
    "    if menu == 1:\n",
    "        segiempat()\n",
    "    elif menu == 2:\n",
    "        segitiga()\n",
    "    elif menu == 3:\n",
    "        layang()\n",
    "    elif menu == 4:\n",
    "        trapesium()\n",
    "    elif menu == 5:\n",
    "        exit()\n",
    "    else:\n",
    "        print(\"Salah pilih!!!\")"
   ]
  },
  {
   "cell_type": "code",
   "execution_count": 15,
   "metadata": {},
   "outputs": [
    {
     "name": "stdout",
     "output_type": "stream",
     "text": [
      "APLIKASI PERHITUNGAN LUAS LUAS BANGUN DATAR\n",
      "\n",
      "\n",
      "------MENU------\n",
      "1. SegiEmpat\n",
      "2. Segitiga\n",
      "3. Layang - layang\n",
      "4. trapsium\n",
      "\n",
      "\n",
      "menghitung luas Trapesium\n",
      "atap :  21 \n",
      "lantai :  22 \n",
      "tinggi :  34\n",
      "luas = 731.0\n",
      "\n",
      "\n",
      "------MENU------\n",
      "1. SegiEmpat\n",
      "2. Segitiga\n",
      "3. Layang - layang\n",
      "4. trapsium\n",
      "\n",
      "\n",
      "menghitung luas segitiga\n",
      "luas = 250\n"
     ]
    }
   ],
   "source": [
    "print(\"APLIKASI PERHITUNGAN LUAS LUAS BANGUN DATAR\")\n",
    "jawab = \"y\"\n",
    "while(jawab == \"y\",\"Y\"):\n",
    "    show_menu()\n",
    "    jawab = str(input(\"ulangi? (y/n) \"))\n",
    "    if jawab != \"y\":\n",
    "        break"
   ]
  },
  {
   "cell_type": "code",
   "execution_count": null,
   "metadata": {},
   "outputs": [],
   "source": []
  }
 ],
 "metadata": {
  "kernelspec": {
   "display_name": "Python 3",
   "language": "python",
   "name": "python3"
  },
  "language_info": {
   "codemirror_mode": {
    "name": "ipython",
    "version": 3
   },
   "file_extension": ".py",
   "mimetype": "text/x-python",
   "name": "python",
   "nbconvert_exporter": "python",
   "pygments_lexer": "ipython3",
   "version": "3.11.4"
  }
 },
 "nbformat": 4,
 "nbformat_minor": 2
}
